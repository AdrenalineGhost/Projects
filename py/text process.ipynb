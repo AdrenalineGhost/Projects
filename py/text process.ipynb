{
 "cells": [
  {
   "cell_type": "markdown",
   "metadata": {},
   "source": [
    "This file is meant for **testing purposes only**"
   ]
  },
  {
   "cell_type": "code",
   "execution_count": 1,
   "metadata": {},
   "outputs": [],
   "source": [
    "import os\n",
    "def abspath(names:list) -> str:\n",
    "    \"\"\"Way to convert a relative path to an abspath.\n",
    "\n",
    "    Args\\:\n",
    "        names (list)\\: list of the dir name\n",
    "\n",
    "    Returns\\:\n",
    "        str\\: abspath\n",
    "    \"\"\"  \n",
    "    returnlist = os.path.dirname(__file__)\n",
    "    for name in names:\n",
    "        returnlist = os.path.join(returnlist, name)\n",
    "    return str(returnlist)"
   ]
  },
  {
   "cell_type": "code",
   "execution_count": null,
   "metadata": {},
   "outputs": [],
   "source": []
  }
 ],
 "metadata": {
  "kernelspec": {
   "display_name": "Python 3.10.5 64-bit (windows store)",
   "language": "python",
   "name": "python3"
  },
  "language_info": {
   "codemirror_mode": {
    "name": "ipython",
    "version": 3
   },
   "file_extension": ".py",
   "mimetype": "text/x-python",
   "name": "python",
   "nbconvert_exporter": "python",
   "pygments_lexer": "ipython3",
   "version": "3.10.5"
  },
  "orig_nbformat": 4,
  "vscode": {
   "interpreter": {
    "hash": "463a29e360749e9d5b335abe05b4bb2b298c7a028b12adcabe99a75c22805eb8"
   }
  }
 },
 "nbformat": 4,
 "nbformat_minor": 2
}
