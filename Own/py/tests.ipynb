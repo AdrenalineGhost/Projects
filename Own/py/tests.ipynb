{
 "cells": [
  {
   "cell_type": "markdown",
   "metadata": {},
   "source": [
    "M.threading always faster?"
   ]
  },
  {
   "cell_type": "code",
   "execution_count": 1,
   "metadata": {},
   "outputs": [
    {
     "name": "stdout",
     "output_type": "stream",
     "text": [
      "14200.666666666666\n"
     ]
    }
   ],
   "source": [
    "import numpy,threading,os\n",
    "\n",
    "listoftxt = os.listdir(\"text\")\n",
    "# print(listoftxt)\n",
    "\n",
    "total = []\n",
    "threads = []\n",
    "def count_file_char(filename):\n",
    "    i = 0\n",
    "    with open(os.path.join(\"text\" , filename) , \"r\") as file:\n",
    "        for index in file.read():\n",
    "            i += 1\n",
    "        total.append(i)\n",
    "\n",
    "for index in listoftxt:\n",
    "    thread = threading.Thread(target=count_file_char , args=[index])\n",
    "    threads.append(thread)\n",
    "    thread.start()\n",
    "    thread.join()\n",
    "print(numpy.average(total))"
   ]
  },
  {
   "cell_type": "code",
   "execution_count": 2,
   "metadata": {},
   "outputs": [
    {
     "name": "stdout",
     "output_type": "stream",
     "text": [
      "14200.666666666666\n"
     ]
    }
   ],
   "source": [
    "import os,numpy\n",
    "\n",
    "listoftxt = os.listdir(\"text\")\n",
    "\n",
    "def count_file_char_noMT(filename:str):\n",
    "    total = []\n",
    "    i = 0\n",
    "    with open(os.path.join(\"text\" , filename) , \"r\") as file:\n",
    "        for _ in file.read():\n",
    "            i += 1\n",
    "        total.append(i)\n",
    "\n",
    "for file in listoftxt:\n",
    "    count_file_char_noMT(file)\n",
    "print(numpy.average(total))\n",
    "    "
   ]
  },
  {
   "cell_type": "markdown",
   "metadata": {},
   "source": [
    "Testing with match cases"
   ]
  },
  {
   "cell_type": "code",
   "execution_count": 6,
   "metadata": {},
   "outputs": [
    {
     "name": "stdout",
     "output_type": "stream",
     "text": [
      "Bad request\n"
     ]
    }
   ],
   "source": [
    "def http_error(status):\n",
    "    match status:\n",
    "        case 400:\n",
    "            return \"Bad request\"\n",
    "        case 404:\n",
    "            return \"Not found\"\n",
    "        case 418:\n",
    "            return \"I'm a teapot\"\n",
    "        case _:\n",
    "            return \"Something's wrong with the internet\"\n",
    "try:\n",
    "    print(http_error(int(input(\"What number did your html page give you: \"))))\n",
    "except Exception:\n",
    "    print(\"Make sure the number is a valid integer!\")"
   ]
  },
  {
   "cell_type": "markdown",
   "metadata": {},
   "source": [
    "This next code wont fuckinf stop for some reason???"
   ]
  },
  {
   "cell_type": "code",
   "execution_count": null,
   "metadata": {},
   "outputs": [],
   "source": [
    "def prime(n):\n",
    "    def check(n):\n",
    "        return True if n > 1000 else False\n",
    "    if check(n): return\n",
    "    for number in range(2 , n):\n",
    "        if check(n): return\n",
    "        if  n%number==0:\n",
    "            prime(n+1)\n",
    "            if check(n): return\n",
    "    else:\n",
    "        if check(n): return\n",
    "        with open(\"pNumber.txt\" , \"a\") as file:\n",
    "            file.write(\"{}\\n\".format(n))\n",
    "        prime(n+1)\n",
    "        if check(n): return\n",
    "prime(1)"
   ]
  },
  {
   "cell_type": "code",
   "execution_count": 2,
   "metadata": {},
   "outputs": [
    {
     "name": "stdout",
     "output_type": "stream",
     "text": [
      "the rico is 1.1402668491276087 compared to 1.0\n"
     ]
    },
    {
     "data": {
      "text/plain": [
       "[<matplotlib.lines.Line2D at 0x24d8e504c40>]"
      ]
     },
     "execution_count": 2,
     "metadata": {},
     "output_type": "execute_result"
    },
    {
     "data": {
      "image/png": "[encoded data removed]",
      "text/plain": [
       "<Figure size 432x288 with 1 Axes>"
      ]
     },
     "metadata": {},
     "output_type": "display_data"
    }
   ],
   "source": [
    "import matplotlib.pyplot as plt\n",
    "import numpy\n",
    "def is_prime(n):\n",
    "    for numbers in range(2,n):\n",
    "       if n%numbers == 0:\n",
    "           return False\n",
    "    else: return True\n",
    "\n",
    "lengthofrange = 10_000\n",
    "      \n",
    "y1 = [x for x in range(1,lengthofrange) if not is_prime(x)]\n",
    "x = [i for i,_ in enumerate(y1, start=1)]\n",
    "y2 = [x for x in x]\n",
    "print(\"the rico is {} compared to {}\".format(y1[len(y1)-1]/len(y1) , y2[len(y2)-1]/len(y2)))\n",
    "plt.style.use(\"ggplot\")\n",
    "fig,ax = plt.subplots()\n",
    "ax.plot(x,y1,color = \"green\")\n",
    "ax.plot(x,y2,color=\"red\")"
   ]
  },
  {
   "cell_type": "code",
   "execution_count": 29,
   "metadata": {},
   "outputs": [],
   "source": [
    "lengthofrange = 1000\n",
    "with open(\"writablefile.txt\" , \"a\") as file:\n",
    "    for index in range(2, lengthofrange):\n",
    "        y = [x for x in range(1,index) if not is_prime(x)]\n",
    "        if y != []: # list cant be empty\n",
    "            file.write(\"{}\\n\".format(\n",
    "                y[len(y)-1]/len(y)\n",
    "            )) # print the rico"
   ]
  },
  {
   "cell_type": "code",
   "execution_count": 32,
   "metadata": {},
   "outputs": [
    {
     "data": {
      "text/plain": [
       "[<matplotlib.lines.Line2D at 0x2525d530040>]"
      ]
     },
     "execution_count": 32,
     "metadata": {},
     "output_type": "execute_result"
    },
    {
     "data": {
      "image/png": "[encoded data removed]",
      "text/plain": [
       "<Figure size 432x288 with 1 Axes>"
      ]
     },
     "metadata": {},
     "output_type": "display_data"
    }
   ],
   "source": [
    "import matplotlib.pyplot as plt\n",
    "with open(\"writablefile.txt\" , \"r\") as file:\n",
    "    read_lines = file.readlines()\n",
    "x = [i for i,_ in enumerate(read_lines)]\n",
    "    \n",
    "for index,number in enumerate(read_lines):\n",
    "    read_lines[index] = float(number.replace(\"\\n\" , \"\"))*(10**(2)) # Remove printing artifacts\n",
    "    \n",
    "fig,ax = plt.subplots()\n",
    "ax.plot(x,read_lines,color = \"green\")"
   ]
  },
  {
   "cell_type": "code",
   "execution_count": 11,
   "metadata": {},
   "outputs": [],
   "source": [
    "import pickle\n",
    "writes = [x for x in range(10**5) if is_prime(x)]\n",
    "with open(\"pickle.pickle\" , \"wb+\") as file:\n",
    "    pickle.dump(\n",
    "        writes,\n",
    "        file\n",
    "    )"
   ]
  },
  {
   "cell_type": "code",
   "execution_count": null,
   "metadata": {},
   "outputs": [],
   "source": [
    "import pickle\n",
    "with open(\"pickle.pickle\" , \"rb+\") as file:\n",
    "    newstuff = pickle.load(file)\n",
    "    \n",
    "print(newstuff)"
   ]
  },
  {
   "cell_type": "markdown",
   "metadata": {},
   "source": [
    "Outputs a large array so be warned!"
   ]
  },
  {
   "cell_type": "code",
   "execution_count": null,
   "metadata": {},
   "outputs": [],
   "source": [
    "import threading\n",
    "\n",
    "def is_prime(n):\n",
    "    for numbers in range(2,n):\n",
    "       if n%numbers == 0:\n",
    "           return False\n",
    "    else: return True\n",
    "\n",
    "def if_prime_add_to_file(filename, n):\n",
    "    if is_prime(n):\n",
    "        with open(filename , \"a\"):\n",
    "            file.write(n)\n",
    "            \n",
    "for n in range(1,10**6):\n",
    "    thread = threading.Thread(target=if_prime_add_to_file, args=[\"writablefile.txt\" , n])\n",
    "    thread.start()\n",
    "    thread.join(3)"
   ]
  },
  {
   "cell_type": "code",
   "execution_count": 7,
   "metadata": {},
   "outputs": [
    {
     "name": "stdout",
     "output_type": "stream",
     "text": [
      "{0, <generator object <genexpr> at 0x0000024D8C342DC0>}\n"
     ]
    }
   ],
   "source": [
    "letters = \"qwertyuiopasdfghjklzxcvbnm\"\n",
    "beletters = {(x for x in letters) , 0}\n",
    "print(beletters)\n"
   ]
  }
 ],
 "metadata": {
  "interpreter": {
   "hash": "fe233f49f9f871381151d9503d88286085669f3f00207f452e3ac62f8d7e0a67"
  },
  "kernelspec": {
   "display_name": "Python 3.10.4 64-bit",
   "language": "python",
   "name": "python3"
  },
  "language_info": {
   "codemirror_mode": {
    "name": "ipython",
    "version": 3
   },
   "file_extension": ".py",
   "mimetype": "text/x-python",
   "name": "python",
   "nbconvert_exporter": "python",
   "pygments_lexer": "ipython3",
   "version": "3.10.4 (tags/v3.10.4:9d38120, Mar 23 2022, 23:13:41) [MSC v.1929 64 bit (AMD64)]"
  },
  "orig_nbformat": 4
 },
 "nbformat": 4,
 "nbformat_minor": 2
}
