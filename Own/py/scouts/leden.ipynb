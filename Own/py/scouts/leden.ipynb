{
 "cells": [
  {
   "cell_type": "code",
   "execution_count": 1,
   "metadata": {},
   "outputs": [
    {
     "name": "stdout",
     "output_type": "stream",
     "text": [
      "[['Staf Parys'], ['Leon Thielemans', 'Simon Bosschaert', 'Mats Trossaert'], ['Leon Thielemans', 'Mats Trossaert', 'Simon Bosschaert'], ['Miel DH', 'Felix Coens'], ['Felix Callebaut', 'Miel DH', 'Thibaut Van Lokeren'], ['Mauro Van Hiel'], ['Noah Verschraege', 'Roel Roobrouck', 'Leon Coppens'], ['Leon Thielemans', 'Charles Van den Hende', 'Mats Trossaert'], ['Maurice De Moor'], ['Mats Trossaert', 'Simon Bosschaert', 'Charles Van den Hende'], ['Leon Thielemans', 'Charles Van den Hende', 'Balder Seurinck'], ['Leon Thielemans', 'Simon Bosschaert', 'Balder Seurinck'], ['Florian Fiems', 'Ruben Kasztanovics'], ['Thibaut Van Lokeren', 'Felix Callebaut'], ['Robbe De Meyer', 'Johannes Van Belle', 'Miel DH'], ['Maurice De Moor', 'Leon Coppens'], ['Noah Verschraege'], ['Johannes Van Belle', 'Miel DH'], [''], ['Staf Parys', 'Warre Van Hoye'], [''], ['Alex Blom', 'Warre Van Hoye'], ['Miel DH', 'Felix Callebaut'], ['Seppe Verbeeren', 'Staf Parys']]\n"
     ]
    }
   ],
   "source": [
    "from pyvis.network import Network\n",
    "net = Network(height='750px', width='1000px',directed=True, notebook=False)\n",
    "with open(\"namen.txt\",\"r\") as f:\n",
    "    namen = f.read().split(\",\")\n",
    "with open(\"vriendjes.txt\", \"r\") as f:\n",
    "    vriendjes = f.readlines()\n",
    "for index,item in enumerate(vriendjes):\n",
    "    vriendjes[index] = item.strip(\"\\n\").split(\"\\t\")\n",
    "print(vriendjes)\n",
    "net.add_nodes(namen)\n",
    "for index,item in enumerate(vriendjes):\n",
    "    if item != [\"\"]:\n",
    "        for vriendje in item:\n",
    "            net.add_edge(namen[index],vriendje)\n",
    "\n",
    "net.toggle_physics(True)\n",
    "net.show_buttons(filter_=['physics'])\n",
    "net.show('mygraph.html')"
   ]
  }
 ],
 "metadata": {
  "kernelspec": {
   "display_name": "Python 3.10.1 64-bit",
   "language": "python",
   "name": "python3"
  },
  "language_info": {
   "codemirror_mode": {
    "name": "ipython",
    "version": 3
   },
   "file_extension": ".py",
   "mimetype": "text/x-python",
   "name": "python",
   "nbconvert_exporter": "python",
   "pygments_lexer": "ipython3",
   "version": "3.10.1"
  },
  "orig_nbformat": 4,
  "vscode": {
   "interpreter": {
    "hash": "33184612fe23ea789693bd8266f7c5cf5860109e6e433b1efdda378c5f430ce8"
   }
  }
 },
 "nbformat": 4,
 "nbformat_minor": 2
}
